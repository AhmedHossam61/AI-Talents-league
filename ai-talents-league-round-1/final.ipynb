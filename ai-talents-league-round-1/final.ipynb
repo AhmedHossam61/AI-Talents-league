{
 "cells": [
  {
   "cell_type": "code",
   "execution_count": 11,
   "id": "7fc47f99",
   "metadata": {},
   "outputs": [
    {
     "name": "stdout",
     "output_type": "stream",
     "text": [
      "✓ All libraries imported successfully!\n"
     ]
    }
   ],
   "source": [
    "import pandas as pd \n",
    "import numpy as np \n",
    "import matplotlib.pyplot as plt\n",
    "import seaborn as sns\n",
    "from sklearn.model_selection import train_test_split, cross_val_score\n",
    "from sklearn.preprocessing import LabelEncoder\n",
    "from sklearn.linear_model import LinearRegression, Ridge, Lasso\n",
    "from sklearn.ensemble import RandomForestRegressor, GradientBoostingRegressor\n",
    "from sklearn.metrics import mean_squared_error, mean_absolute_error, r2_score\n",
    "import warnings\n",
    "warnings.filterwarnings('ignore')\n",
    "\n",
    "np.random.seed(42)\n",
    "print(\"✓ All libraries imported successfully!\")"
   ]
  },
  {
   "cell_type": "code",
   "execution_count": 12,
   "id": "f867ccec",
   "metadata": {},
   "outputs": [
    {
     "name": "stdout",
     "output_type": "stream",
     "text": [
      "Train shape: (6000, 12)\n",
      "Test shape: (2523, 11)\n"
     ]
    }
   ],
   "source": [
    "df_train = pd.read_csv(\"train.csv\")\n",
    "df_test = pd.read_csv(\"test.csv\")\n",
    "\n",
    "print(f\"Train shape: {df_train.shape}\")\n",
    "print(f\"Test shape: {df_test.shape}\")"
   ]
  },
  {
   "cell_type": "code",
   "execution_count": 13,
   "id": "39aa15b7",
   "metadata": {},
   "outputs": [
    {
     "data": {
      "text/html": [
       "<div>\n",
       "<style scoped>\n",
       "    .dataframe tbody tr th:only-of-type {\n",
       "        vertical-align: middle;\n",
       "    }\n",
       "\n",
       "    .dataframe tbody tr th {\n",
       "        vertical-align: top;\n",
       "    }\n",
       "\n",
       "    .dataframe thead th {\n",
       "        text-align: right;\n",
       "    }\n",
       "</style>\n",
       "<table border=\"1\" class=\"dataframe\">\n",
       "  <thead>\n",
       "    <tr style=\"text-align: right;\">\n",
       "      <th></th>\n",
       "      <th>X1</th>\n",
       "      <th>X2</th>\n",
       "      <th>X3</th>\n",
       "      <th>X4</th>\n",
       "      <th>X5</th>\n",
       "      <th>X6</th>\n",
       "      <th>X7</th>\n",
       "      <th>X8</th>\n",
       "      <th>X9</th>\n",
       "      <th>X10</th>\n",
       "      <th>X11</th>\n",
       "      <th>Y</th>\n",
       "    </tr>\n",
       "  </thead>\n",
       "  <tbody>\n",
       "    <tr>\n",
       "      <th>0</th>\n",
       "      <td>FDA15</td>\n",
       "      <td>9.30</td>\n",
       "      <td>Low Fat</td>\n",
       "      <td>0.016047</td>\n",
       "      <td>Dairy</td>\n",
       "      <td>249.8092</td>\n",
       "      <td>OUT049</td>\n",
       "      <td>1999</td>\n",
       "      <td>Medium</td>\n",
       "      <td>Tier 1</td>\n",
       "      <td>Supermarket Type1</td>\n",
       "      <td>8.23</td>\n",
       "    </tr>\n",
       "    <tr>\n",
       "      <th>1</th>\n",
       "      <td>DRC01</td>\n",
       "      <td>5.92</td>\n",
       "      <td>Regular</td>\n",
       "      <td>0.019278</td>\n",
       "      <td>Soft Drinks</td>\n",
       "      <td>48.2692</td>\n",
       "      <td>OUT018</td>\n",
       "      <td>2009</td>\n",
       "      <td>Medium</td>\n",
       "      <td>Tier 3</td>\n",
       "      <td>Supermarket Type2</td>\n",
       "      <td>6.09</td>\n",
       "    </tr>\n",
       "    <tr>\n",
       "      <th>2</th>\n",
       "      <td>FDN15</td>\n",
       "      <td>17.50</td>\n",
       "      <td>Low Fat</td>\n",
       "      <td>0.016760</td>\n",
       "      <td>Meat</td>\n",
       "      <td>141.6180</td>\n",
       "      <td>OUT049</td>\n",
       "      <td>1999</td>\n",
       "      <td>Medium</td>\n",
       "      <td>Tier 1</td>\n",
       "      <td>Supermarket Type1</td>\n",
       "      <td>7.65</td>\n",
       "    </tr>\n",
       "    <tr>\n",
       "      <th>3</th>\n",
       "      <td>FDX07</td>\n",
       "      <td>19.20</td>\n",
       "      <td>Regular</td>\n",
       "      <td>0.000000</td>\n",
       "      <td>Fruits and Vegetables</td>\n",
       "      <td>182.0950</td>\n",
       "      <td>OUT010</td>\n",
       "      <td>1998</td>\n",
       "      <td>NaN</td>\n",
       "      <td>Tier 3</td>\n",
       "      <td>Grocery Store</td>\n",
       "      <td>6.60</td>\n",
       "    </tr>\n",
       "    <tr>\n",
       "      <th>4</th>\n",
       "      <td>NCD19</td>\n",
       "      <td>8.93</td>\n",
       "      <td>Low Fat</td>\n",
       "      <td>0.000000</td>\n",
       "      <td>Household</td>\n",
       "      <td>53.8614</td>\n",
       "      <td>OUT013</td>\n",
       "      <td>1987</td>\n",
       "      <td>High</td>\n",
       "      <td>Tier 3</td>\n",
       "      <td>Supermarket Type1</td>\n",
       "      <td>6.90</td>\n",
       "    </tr>\n",
       "  </tbody>\n",
       "</table>\n",
       "</div>"
      ],
      "text/plain": [
       "      X1     X2       X3        X4                     X5        X6      X7  \\\n",
       "0  FDA15   9.30  Low Fat  0.016047                  Dairy  249.8092  OUT049   \n",
       "1  DRC01   5.92  Regular  0.019278            Soft Drinks   48.2692  OUT018   \n",
       "2  FDN15  17.50  Low Fat  0.016760                   Meat  141.6180  OUT049   \n",
       "3  FDX07  19.20  Regular  0.000000  Fruits and Vegetables  182.0950  OUT010   \n",
       "4  NCD19   8.93  Low Fat  0.000000              Household   53.8614  OUT013   \n",
       "\n",
       "     X8      X9     X10                X11     Y  \n",
       "0  1999  Medium  Tier 1  Supermarket Type1  8.23  \n",
       "1  2009  Medium  Tier 3  Supermarket Type2  6.09  \n",
       "2  1999  Medium  Tier 1  Supermarket Type1  7.65  \n",
       "3  1998     NaN  Tier 3      Grocery Store  6.60  \n",
       "4  1987    High  Tier 3  Supermarket Type1  6.90  "
      ]
     },
     "execution_count": 13,
     "metadata": {},
     "output_type": "execute_result"
    }
   ],
   "source": [
    "df_train.head()"
   ]
  },
  {
   "cell_type": "markdown",
   "id": "4f835e40",
   "metadata": {},
   "source": [
    "## Check Data Types"
   ]
  },
  {
   "cell_type": "code",
   "execution_count": 14,
   "id": "fe8eeb04",
   "metadata": {},
   "outputs": [
    {
     "name": "stdout",
     "output_type": "stream",
     "text": [
      "Data Types:\n",
      "X1      object\n",
      "X2     float64\n",
      "X3      object\n",
      "X4     float64\n",
      "X5      object\n",
      "X6     float64\n",
      "X7      object\n",
      "X8       int64\n",
      "X9      object\n",
      "X10     object\n",
      "X11     object\n",
      "Y      float64\n",
      "dtype: object\n"
     ]
    }
   ],
   "source": [
    "print(\"Data Types:\")\n",
    "print(df_train.dtypes)"
   ]
  },
  {
   "cell_type": "code",
   "execution_count": 15,
   "id": "5a6d0b21",
   "metadata": {},
   "outputs": [
    {
     "name": "stdout",
     "output_type": "stream",
     "text": [
      "Missing Values (%):\n",
      "\n",
      "X2    16.766667\n",
      "X9    28.516667\n",
      "dtype: float64\n"
     ]
    }
   ],
   "source": [
    "print(\"Missing Values (%):\\n\")\n",
    "missing_pct = df_train.isnull().sum() / len(df_train) * 100\n",
    "print(missing_pct[missing_pct > 0])"
   ]
  },
  {
   "cell_type": "code",
   "execution_count": 16,
   "id": "2661aa92",
   "metadata": {},
   "outputs": [
    {
     "name": "stdout",
     "output_type": "stream",
     "text": [
      "Target Variable (Y) Statistics:\n",
      "\n",
      "count    6000.000000\n",
      "mean        7.303403\n",
      "std         1.014361\n",
      "min         3.510000\n",
      "25%         6.750000\n",
      "50%         7.500000\n",
      "75%         8.040000\n",
      "max         9.400000\n",
      "Name: Y, dtype: float64\n"
     ]
    }
   ],
   "source": [
    "print(\"Target Variable (Y) Statistics:\\n\")\n",
    "print(df_train['Y'].describe())"
   ]
  },
  {
   "cell_type": "code",
   "execution_count": 17,
   "id": "268082b1",
   "metadata": {},
   "outputs": [
    {
     "name": "stdout",
     "output_type": "stream",
     "text": [
      "X3 values: ['Low Fat' 'Regular' 'low fat' 'LF' 'reg']\n",
      "\n",
      "X3 value counts:\n",
      "X3\n",
      "Low Fat    3595\n",
      "Regular    2030\n",
      "LF          220\n",
      "reg          81\n",
      "low fat      74\n",
      "Name: count, dtype: int64\n"
     ]
    }
   ],
   "source": [
    "print(\"X3 values:\", df_train['X3'].unique())\n",
    "print(\"\\nX3 value counts:\")\n",
    "print(df_train['X3'].value_counts())"
   ]
  },
  {
   "cell_type": "markdown",
   "id": "9e740c20",
   "metadata": {},
   "source": [
    "## Define Preprocessing Function"
   ]
  },
  {
   "cell_type": "code",
   "execution_count": 18,
   "id": "96877bb7",
   "metadata": {},
   "outputs": [],
   "source": [
    "def preprocess_data(df, is_train=True):\n",
    "    \"\"\"\n",
    "    Preprocess the dataframe:\n",
    "    - Drop ID column (X1)\n",
    "    - Standardize categorical values\n",
    "    - Handle missing values\n",
    "    - Remove duplicates (training only)\n",
    "    \"\"\"\n",
    "    df = df.copy()\n",
    "    \n",
    "    # Drop X1 (ID column)\n",
    "    if 'X1' in df.columns:\n",
    "        df = df.drop('X1', axis=1)\n",
    "        print(\"  ✓ Dropped X1\")\n",
    "    \n",
    "    # Standardize X3 values\n",
    "    if 'X3' in df.columns:\n",
    "        df['X3'] = df['X3'].replace({\n",
    "            'low fat': 'Low Fat', \n",
    "            'LF': 'Low Fat', \n",
    "            'reg': 'Regular'\n",
    "        })\n",
    "        print(\"  ✓ Standardized X3\")\n",
    "    \n",
    "    # Handle X9 - Fill with mode (RECOMMENDED)\n",
    "    if 'X9' in df.columns:\n",
    "        df['X9'] = df['X9'].fillna('Medium')\n",
    "        print(\"  ✓ Filled X9 missing values\")\n",
    "    \n",
    "    # Fill X2 missing values\n",
    "    if 'X2' in df.columns:\n",
    "        mean_x2 = df['X2'].mean()\n",
    "        df['X2'] = df['X2'].fillna(mean_x2)\n",
    "        print(f\"  ✓ Filled X2 with mean: {mean_x2:.2f}\")\n",
    "    \n",
    "    # Remove duplicates (training only)\n",
    "    if is_train:\n",
    "        initial_rows = len(df)\n",
    "        df = df.drop_duplicates()\n",
    "        removed = initial_rows - len(df)\n",
    "        if removed > 0:\n",
    "            print(f\"  ✓ Removed {removed} duplicates\")\n",
    "    \n",
    "    return df"
   ]
  },
  {
   "cell_type": "markdown",
   "id": "4c6b4c51",
   "metadata": {},
   "source": [
    "## Apply Preprocessing"
   ]
  },
  {
   "cell_type": "code",
   "execution_count": 19,
   "id": "571a6619",
   "metadata": {},
   "outputs": [
    {
     "name": "stdout",
     "output_type": "stream",
     "text": [
      "Preprocessing Training Data:\n",
      "  ✓ Dropped X1\n",
      "  ✓ Standardized X3\n",
      "  ✓ Filled X9 missing values\n",
      "  ✓ Filled X2 with mean: 12.96\n",
      "\n",
      "Preprocessing Test Data:\n",
      "  ✓ Dropped X1\n",
      "  ✓ Standardized X3\n",
      "  ✓ Filled X9 missing values\n",
      "  ✓ Filled X2 with mean: 12.62\n",
      "\n",
      "Final shapes:\n",
      "Train: (6000, 11)\n",
      "Test: (2523, 10)\n",
      "Missing values: 0\n"
     ]
    }
   ],
   "source": [
    "print(\"Preprocessing Training Data:\")\n",
    "df_train_processed = preprocess_data(df_train, is_train=True)\n",
    "\n",
    "print(\"\\nPreprocessing Test Data:\")\n",
    "df_test_processed = preprocess_data(df_test, is_train=False)\n",
    "\n",
    "print(f\"\\nFinal shapes:\")\n",
    "print(f\"Train: {df_train_processed.shape}\")\n",
    "print(f\"Test: {df_test_processed.shape}\")\n",
    "print(f\"Missing values: {df_train_processed.isnull().sum().sum()}\")"
   ]
  },
  {
   "cell_type": "code",
   "execution_count": 20,
   "id": "c4847933",
   "metadata": {},
   "outputs": [],
   "source": [
    "def engineer_features(df):\n",
    "    \"\"\"\n",
    "    Create new features:\n",
    "    - Store age\n",
    "    - Visibility categories\n",
    "    - Price categories\n",
    "    - Interaction features\n",
    "    \"\"\"\n",
    "    df = df.copy()\n",
    "    \n",
    "    # Store age\n",
    "    if 'X8' in df.columns:\n",
    "        df['X8_Age'] = 2025 - df['X8']\n",
    "        print(\"  ✓ Created X8_Age\")\n",
    "    \n",
    "    # Visibility features\n",
    "    if 'X4' in df.columns:\n",
    "        df['X4_IsZero'] = (df['X4'] == 0).astype(int)\n",
    "        df['X4_Category'] = pd.cut(df['X4'], \n",
    "                                     bins=[-0.001, 0, 0.05, 0.1, 1.0],\n",
    "                                     labels=['Zero', 'Low', 'Medium', 'High'])\n",
    "        print(\"  ✓ Created X4 features\")\n",
    "    \n",
    "    # Price categories\n",
    "    if 'X2' in df.columns:\n",
    "        df['X2_Category'] = pd.cut(df['X2'], \n",
    "                                     bins=[0, 10, 15, 20, 100],\n",
    "                                     labels=['Low', 'Medium', 'High', 'Very High'])\n",
    "        print(\"  ✓ Created X2_Category\")\n",
    "    \n",
    "    # Interaction\n",
    "    if 'X2' in df.columns and 'X6' in df.columns:\n",
    "        df['X2_X6_Interaction'] = df['X2'] * df['X6']\n",
    "        print(\"  ✓ Created X2_X6_Interaction\")\n",
    "    \n",
    "    return df"
   ]
  },
  {
   "cell_type": "code",
   "execution_count": 21,
   "id": "6ce4ec45",
   "metadata": {},
   "outputs": [
    {
     "name": "stdout",
     "output_type": "stream",
     "text": [
      "Engineering features for training data:\n",
      "  ✓ Created X8_Age\n",
      "  ✓ Created X4 features\n",
      "  ✓ Created X2_Category\n",
      "  ✓ Created X2_X6_Interaction\n",
      "\n",
      "Engineering features for test data:\n",
      "  ✓ Created X8_Age\n",
      "  ✓ Created X4 features\n",
      "  ✓ Created X2_Category\n",
      "  ✓ Created X2_X6_Interaction\n",
      "\n",
      "New shapes:\n",
      "Train: (6000, 16)\n",
      "Test: (2523, 15)\n"
     ]
    }
   ],
   "source": [
    "print(\"Engineering features for training data:\")\n",
    "df_train_processed = engineer_features(df_train_processed)\n",
    "\n",
    "print(\"\\nEngineering features for test data:\")\n",
    "df_test_processed = engineer_features(df_test_processed)\n",
    "\n",
    "print(f\"\\nNew shapes:\")\n",
    "print(f\"Train: {df_train_processed.shape}\")\n",
    "print(f\"Test: {df_test_processed.shape}\")"
   ]
  },
  {
   "cell_type": "code",
   "execution_count": 22,
   "id": "aeeb8018",
   "metadata": {},
   "outputs": [
    {
     "name": "stdout",
     "output_type": "stream",
     "text": [
      "Sample of engineered features:\n"
     ]
    },
    {
     "data": {
      "text/html": [
       "<div>\n",
       "<style scoped>\n",
       "    .dataframe tbody tr th:only-of-type {\n",
       "        vertical-align: middle;\n",
       "    }\n",
       "\n",
       "    .dataframe tbody tr th {\n",
       "        vertical-align: top;\n",
       "    }\n",
       "\n",
       "    .dataframe thead th {\n",
       "        text-align: right;\n",
       "    }\n",
       "</style>\n",
       "<table border=\"1\" class=\"dataframe\">\n",
       "  <thead>\n",
       "    <tr style=\"text-align: right;\">\n",
       "      <th></th>\n",
       "      <th>X8</th>\n",
       "      <th>X8_Age</th>\n",
       "      <th>X4</th>\n",
       "      <th>X4_IsZero</th>\n",
       "      <th>X2</th>\n",
       "      <th>X2_Category</th>\n",
       "      <th>X2_X6_Interaction</th>\n",
       "    </tr>\n",
       "  </thead>\n",
       "  <tbody>\n",
       "    <tr>\n",
       "      <th>0</th>\n",
       "      <td>1999</td>\n",
       "      <td>26</td>\n",
       "      <td>0.016047</td>\n",
       "      <td>0</td>\n",
       "      <td>9.30</td>\n",
       "      <td>Low</td>\n",
       "      <td>2323.225560</td>\n",
       "    </tr>\n",
       "    <tr>\n",
       "      <th>1</th>\n",
       "      <td>2009</td>\n",
       "      <td>16</td>\n",
       "      <td>0.019278</td>\n",
       "      <td>0</td>\n",
       "      <td>5.92</td>\n",
       "      <td>Low</td>\n",
       "      <td>285.753664</td>\n",
       "    </tr>\n",
       "    <tr>\n",
       "      <th>2</th>\n",
       "      <td>1999</td>\n",
       "      <td>26</td>\n",
       "      <td>0.016760</td>\n",
       "      <td>0</td>\n",
       "      <td>17.50</td>\n",
       "      <td>High</td>\n",
       "      <td>2478.315000</td>\n",
       "    </tr>\n",
       "    <tr>\n",
       "      <th>3</th>\n",
       "      <td>1998</td>\n",
       "      <td>27</td>\n",
       "      <td>0.000000</td>\n",
       "      <td>1</td>\n",
       "      <td>19.20</td>\n",
       "      <td>High</td>\n",
       "      <td>3496.224000</td>\n",
       "    </tr>\n",
       "    <tr>\n",
       "      <th>4</th>\n",
       "      <td>1987</td>\n",
       "      <td>38</td>\n",
       "      <td>0.000000</td>\n",
       "      <td>1</td>\n",
       "      <td>8.93</td>\n",
       "      <td>Low</td>\n",
       "      <td>480.982302</td>\n",
       "    </tr>\n",
       "  </tbody>\n",
       "</table>\n",
       "</div>"
      ],
      "text/plain": [
       "     X8  X8_Age        X4  X4_IsZero     X2 X2_Category  X2_X6_Interaction\n",
       "0  1999      26  0.016047          0   9.30         Low        2323.225560\n",
       "1  2009      16  0.019278          0   5.92         Low         285.753664\n",
       "2  1999      26  0.016760          0  17.50        High        2478.315000\n",
       "3  1998      27  0.000000          1  19.20        High        3496.224000\n",
       "4  1987      38  0.000000          1   8.93         Low         480.982302"
      ]
     },
     "execution_count": 22,
     "metadata": {},
     "output_type": "execute_result"
    }
   ],
   "source": [
    "print(\"Sample of engineered features:\")\n",
    "df_train_processed[['X8', 'X8_Age', 'X4', 'X4_IsZero', 'X2', 'X2_Category', 'X2_X6_Interaction']].head()"
   ]
  },
  {
   "cell_type": "code",
   "execution_count": 23,
   "id": "f769443b",
   "metadata": {},
   "outputs": [
    {
     "name": "stdout",
     "output_type": "stream",
     "text": [
      "Categorical columns: ['X3', 'X5', 'X7', 'X9', 'X10', 'X11', 'X4_Category', 'X2_Category']\n",
      "Total: 8 columns\n"
     ]
    }
   ],
   "source": [
    "categorical_cols = df_train_processed.select_dtypes(include=['object', 'category']).columns.tolist()\n",
    "\n",
    "if 'Y' in categorical_cols:\n",
    "    categorical_cols.remove('Y')\n",
    "\n",
    "print(f\"Categorical columns: {categorical_cols}\")\n",
    "print(f\"Total: {len(categorical_cols)} columns\")"
   ]
  },
  {
   "cell_type": "code",
   "execution_count": 24,
   "id": "10cb71be",
   "metadata": {},
   "outputs": [
    {
     "name": "stdout",
     "output_type": "stream",
     "text": [
      "  ✓ Encoded X3: 2 values\n",
      "  ✓ Encoded X5: 16 values\n",
      "  ✓ Encoded X7: 10 values\n",
      "  ✓ Encoded X9: 3 values\n",
      "  ✓ Encoded X10: 3 values\n",
      "  ✓ Encoded X11: 4 values\n",
      "  ✓ Encoded X4_Category: 4 values\n",
      "  ✓ Encoded X2_Category: 4 values\n",
      "\n",
      "✓ All categorical variables encoded!\n"
     ]
    }
   ],
   "source": [
    "encoders = {}\n",
    "\n",
    "for col in categorical_cols:\n",
    "    le = LabelEncoder()\n",
    "    \n",
    "    # Fit on training data\n",
    "    df_train_processed[col] = le.fit_transform(df_train_processed[col].astype(str))\n",
    "    encoders[col] = le\n",
    "    \n",
    "    # Transform test data (handle unseen labels)\n",
    "    df_test_processed[col] = df_test_processed[col].astype(str)\n",
    "    df_test_processed[col] = df_test_processed[col].apply(\n",
    "        lambda x: le.transform([x])[0] if x in le.classes_ else -1\n",
    "    )\n",
    "    \n",
    "    print(f\"  ✓ Encoded {col}: {len(le.classes_)} values\")\n",
    "\n",
    "print(\"\\n✓ All categorical variables encoded!\")"
   ]
  },
  {
   "cell_type": "code",
   "execution_count": 25,
   "id": "11ff0533",
   "metadata": {},
   "outputs": [
    {
     "name": "stdout",
     "output_type": "stream",
     "text": [
      "Missing values after encoding:\n",
      "Train: 0\n",
      "Test: 0\n"
     ]
    }
   ],
   "source": [
    "print(\"Missing values after encoding:\")\n",
    "print(f\"Train: {df_train_processed.isnull().sum().sum()}\")\n",
    "print(f\"Test: {df_test_processed.isnull().sum().sum()}\")"
   ]
  },
  {
   "cell_type": "code",
   "execution_count": 26,
   "id": "9adb6d87",
   "metadata": {},
   "outputs": [
    {
     "name": "stdout",
     "output_type": "stream",
     "text": [
      "Features shape: (6000, 15)\n",
      "Target shape: (6000,)\n",
      "Number of features: 15\n"
     ]
    }
   ],
   "source": [
    "X = df_train_processed.drop('Y', axis=1)\n",
    "y = df_train_processed['Y']\n",
    "\n",
    "print(f\"Features shape: {X.shape}\")\n",
    "print(f\"Target shape: {y.shape}\")\n",
    "print(f\"Number of features: {X.shape[1]}\")"
   ]
  },
  {
   "cell_type": "code",
   "execution_count": 27,
   "id": "beacef7c",
   "metadata": {},
   "outputs": [
    {
     "name": "stdout",
     "output_type": "stream",
     "text": [
      "Training: 4800 samples (80.0%)\n",
      "Validation: 1200 samples (20.0%)\n"
     ]
    }
   ],
   "source": [
    "X_train, X_val, y_train, y_val = train_test_split(\n",
    "    X, y, test_size=0.2, random_state=42\n",
    ")\n",
    "\n",
    "print(f\"Training: {X_train.shape[0]} samples ({X_train.shape[0]/len(X)*100:.1f}%)\")\n",
    "print(f\"Validation: {X_val.shape[0]} samples ({X_val.shape[0]/len(X)*100:.1f}%)\")"
   ]
  },
  {
   "cell_type": "code",
   "execution_count": 30,
   "id": "11be4d5e",
   "metadata": {},
   "outputs": [
    {
     "name": "stdout",
     "output_type": "stream",
     "text": [
      "Will train 5 models...\n"
     ]
    }
   ],
   "source": [
    "results = {}\n",
    "\n",
    "models = {\n",
    "    'Linear Regression': LinearRegression(),\n",
    "    'Ridge Regression': Ridge(alpha=10.0),\n",
    "    'Lasso Regression': Lasso(alpha=0.1),\n",
    "    'Random Forest': RandomForestRegressor(\n",
    "        n_estimators=200, \n",
    "        max_depth=15,\n",
    "        min_samples_split=5,\n",
    "        random_state=42, \n",
    "        n_jobs=-1\n",
    "    ),\n",
    "    'Gradient Boosting': GradientBoostingRegressor(\n",
    "        n_estimators=200,\n",
    "        learning_rate=0.05,\n",
    "        max_depth=5,\n",
    "        random_state=42\n",
    "    )\n",
    "}\n",
    "\n",
    "print(f\"Will train {len(models)} models...\")"
   ]
  },
  {
   "cell_type": "code",
   "execution_count": 31,
   "id": "38670360",
   "metadata": {},
   "outputs": [
    {
     "name": "stdout",
     "output_type": "stream",
     "text": [
      "[1/5] Training Linear Regression...\n",
      "  Train RMSE: 0.6389 | Val RMSE: 0.6635 | CV RMSE: 0.6412\n",
      "  Train R²: 0.5988 | Val R²: 0.5900\n",
      "\n",
      "[2/5] Training Ridge Regression...\n",
      "  Train RMSE: 0.6398 | Val RMSE: 0.6635 | CV RMSE: 0.6423\n",
      "  Train R²: 0.5975 | Val R²: 0.5900\n",
      "\n",
      "[3/5] Training Lasso Regression...\n",
      "  Train RMSE: 0.6895 | Val RMSE: 0.7112 | CV RMSE: 0.6907\n",
      "  Train R²: 0.5326 | Val R²: 0.5289\n",
      "\n",
      "[4/5] Training Random Forest...\n",
      "  Train RMSE: 0.3025 | Val RMSE: 0.5606 | CV RMSE: 0.5433\n",
      "  Train R²: 0.9100 | Val R²: 0.7073\n",
      "\n",
      "[5/5] Training Gradient Boosting...\n",
      "  Train RMSE: 0.4400 | Val RMSE: 0.5500 | CV RMSE: 0.5341\n",
      "  Train R²: 0.8096 | Val R²: 0.7183\n",
      "\n",
      "✓ All models trained!\n"
     ]
    }
   ],
   "source": [
    "for i, (model_name, model) in enumerate(models.items(), 1):\n",
    "    print(f\"[{i}/{len(models)}] Training {model_name}...\")\n",
    "    \n",
    "    # Train\n",
    "    model.fit(X_train, y_train)\n",
    "    \n",
    "    # Predictions\n",
    "    y_pred_train = model.predict(X_train)\n",
    "    y_pred_val = model.predict(X_val)\n",
    "    \n",
    "    # Metrics\n",
    "    train_rmse = np.sqrt(mean_squared_error(y_train, y_pred_train))\n",
    "    val_rmse = np.sqrt(mean_squared_error(y_val, y_pred_val))\n",
    "    train_mae = mean_absolute_error(y_train, y_pred_train)\n",
    "    val_mae = mean_absolute_error(y_val, y_pred_val)\n",
    "    train_r2 = r2_score(y_train, y_pred_train)\n",
    "    val_r2 = r2_score(y_val, y_pred_val)\n",
    "    \n",
    "    # Cross-validation\n",
    "    cv_scores = cross_val_score(model, X_train, y_train, \n",
    "                                 cv=5, \n",
    "                                 scoring='neg_mean_squared_error',\n",
    "                                 n_jobs=-1)\n",
    "    cv_rmse = np.sqrt(-cv_scores.mean())\n",
    "    \n",
    "    # Store results\n",
    "    results[model_name] = {\n",
    "        'model': model,\n",
    "        'train_rmse': train_rmse,\n",
    "        'val_rmse': val_rmse,\n",
    "        'train_mae': train_mae,\n",
    "        'val_mae': val_mae,\n",
    "        'train_r2': train_r2,\n",
    "        'val_r2': val_r2,\n",
    "        'cv_rmse': cv_rmse,\n",
    "        'predictions': y_pred_val\n",
    "    }\n",
    "    \n",
    "    print(f\"  Train RMSE: {train_rmse:.4f} | Val RMSE: {val_rmse:.4f} | CV RMSE: {cv_rmse:.4f}\")\n",
    "    print(f\"  Train R²: {train_r2:.4f} | Val R²: {val_r2:.4f}\\n\")\n",
    "\n",
    "print(\"✓ All models trained!\")"
   ]
  },
  {
   "cell_type": "code",
   "execution_count": 32,
   "metadata": {},
   "outputs": [
    {
     "data": {
      "text/html": [
       "<div>\n",
       "<style scoped>\n",
       "    .dataframe tbody tr th:only-of-type {\n",
       "        vertical-align: middle;\n",
       "    }\n",
       "\n",
       "    .dataframe tbody tr th {\n",
       "        vertical-align: top;\n",
       "    }\n",
       "\n",
       "    .dataframe thead th {\n",
       "        text-align: right;\n",
       "    }\n",
       "</style>\n",
       "<table border=\"1\" class=\"dataframe\">\n",
       "  <thead>\n",
       "    <tr style=\"text-align: right;\">\n",
       "      <th></th>\n",
       "      <th>Model</th>\n",
       "      <th>Val RMSE</th>\n",
       "      <th>Val MAE</th>\n",
       "      <th>Val R²</th>\n",
       "      <th>CV RMSE</th>\n",
       "      <th>Train RMSE</th>\n",
       "    </tr>\n",
       "  </thead>\n",
       "  <tbody>\n",
       "    <tr>\n",
       "      <th>4</th>\n",
       "      <td>Gradient Boosting</td>\n",
       "      <td>0.550004</td>\n",
       "      <td>0.420423</td>\n",
       "      <td>0.718263</td>\n",
       "      <td>0.534050</td>\n",
       "      <td>0.440033</td>\n",
       "    </tr>\n",
       "    <tr>\n",
       "      <th>3</th>\n",
       "      <td>Random Forest</td>\n",
       "      <td>0.560564</td>\n",
       "      <td>0.430654</td>\n",
       "      <td>0.707340</td>\n",
       "      <td>0.543298</td>\n",
       "      <td>0.302526</td>\n",
       "    </tr>\n",
       "    <tr>\n",
       "      <th>1</th>\n",
       "      <td>Ridge Regression</td>\n",
       "      <td>0.663453</td>\n",
       "      <td>0.518012</td>\n",
       "      <td>0.590048</td>\n",
       "      <td>0.642280</td>\n",
       "      <td>0.639843</td>\n",
       "    </tr>\n",
       "    <tr>\n",
       "      <th>0</th>\n",
       "      <td>Linear Regression</td>\n",
       "      <td>0.663492</td>\n",
       "      <td>0.518511</td>\n",
       "      <td>0.590000</td>\n",
       "      <td>0.641237</td>\n",
       "      <td>0.638858</td>\n",
       "    </tr>\n",
       "    <tr>\n",
       "      <th>2</th>\n",
       "      <td>Lasso Regression</td>\n",
       "      <td>0.711232</td>\n",
       "      <td>0.556665</td>\n",
       "      <td>0.528876</td>\n",
       "      <td>0.690705</td>\n",
       "      <td>0.689538</td>\n",
       "    </tr>\n",
       "  </tbody>\n",
       "</table>\n",
       "</div>"
      ],
      "text/plain": [
       "               Model  Val RMSE   Val MAE    Val R²   CV RMSE  Train RMSE\n",
       "4  Gradient Boosting  0.550004  0.420423  0.718263  0.534050    0.440033\n",
       "3      Random Forest  0.560564  0.430654  0.707340  0.543298    0.302526\n",
       "1   Ridge Regression  0.663453  0.518012  0.590048  0.642280    0.639843\n",
       "0  Linear Regression  0.663492  0.518511  0.590000  0.641237    0.638858\n",
       "2   Lasso Regression  0.711232  0.556665  0.528876  0.690705    0.689538"
      ]
     },
     "execution_count": 32,
     "metadata": {},
     "output_type": "execute_result"
    }
   ],
   "source": [
    "comparison_df = pd.DataFrame({\n",
    "    'Model': list(results.keys()),\n",
    "    'Val RMSE': [results[m]['val_rmse'] for m in results.keys()],\n",
    "    'Val MAE': [results[m]['val_mae'] for m in results.keys()],\n",
    "    'Val R²': [results[m]['val_r2'] for m in results.keys()],\n",
    "    'CV RMSE': [results[m]['cv_rmse'] for m in results.keys()],\n",
    "    'Train RMSE': [results[m]['train_rmse'] for m in results.keys()],\n",
    "})\n",
    "\n",
    "comparison_df = comparison_df.sort_values('Val RMSE')\n",
    "comparison_df\n"
   ]
  },
  {
   "cell_type": "code",
   "execution_count": 33,
   "id": "4b10341a",
   "metadata": {},
   "outputs": [
    {
     "name": "stdout",
     "output_type": "stream",
     "text": [
      "============================================================\n",
      "🏆 BEST MODEL: Gradient Boosting\n",
      "============================================================\n",
      "Validation RMSE: 0.5500\n",
      "Validation R²: 0.7183\n",
      "Cross-Val RMSE: 0.5341\n",
      "============================================================\n"
     ]
    }
   ],
   "source": [
    "best_model_name = comparison_df.iloc[0]['Model']\n",
    "best_model = results[best_model_name]['model']\n",
    "\n",
    "print(\"=\"*60)\n",
    "print(f\"🏆 BEST MODEL: {best_model_name}\")\n",
    "print(\"=\"*60)\n",
    "print(f\"Validation RMSE: {results[best_model_name]['val_rmse']:.4f}\")\n",
    "print(f\"Validation R²: {results[best_model_name]['val_r2']:.4f}\")\n",
    "print(f\"Cross-Val RMSE: {results[best_model_name]['cv_rmse']:.4f}\")\n",
    "print(\"=\"*60)"
   ]
  },
  {
   "cell_type": "code",
   "execution_count": 34,
   "id": "c7c08f2b",
   "metadata": {},
   "outputs": [
    {
     "name": "stdout",
     "output_type": "stream",
     "text": [
      "Top 10 Features for Gradient Boosting:\n",
      "\n",
      "          Feature  Importance\n",
      "              X11    0.538433\n",
      "               X6    0.369084\n",
      "X2_X6_Interaction    0.021100\n",
      "               X4    0.017637\n",
      "               X8    0.014960\n",
      "               X2    0.011844\n",
      "           X8_Age    0.010188\n",
      "               X5    0.006079\n",
      "               X7    0.003984\n",
      "              X10    0.002201\n"
     ]
    }
   ],
   "source": [
    "if hasattr(best_model, 'feature_importances_'):\n",
    "    feature_importance = pd.DataFrame({\n",
    "        'Feature': X.columns,\n",
    "        'Importance': best_model.feature_importances_\n",
    "    }).sort_values('Importance', ascending=False)\n",
    "    \n",
    "    print(f\"Top 10 Features for {best_model_name}:\\n\")\n",
    "    print(feature_importance.head(10).to_string(index=False))\n",
    "else:\n",
    "    print(f\"Feature importance not available for {best_model_name}\")"
   ]
  },
  {
   "cell_type": "code",
   "execution_count": 35,
   "id": "24b57927",
   "metadata": {},
   "outputs": [
    {
     "data": {
      "image/png": "[encoded data removed]",
      "text/plain": [
       "<Figure size 1600x1200 with 4 Axes>"
      ]
     },
     "metadata": {},
     "output_type": "display_data"
    },
    {
     "name": "stdout",
     "output_type": "stream",
     "text": [
      "\n",
      "✓ Visualizations created!\n"
     ]
    }
   ],
   "source": [
    "fig, axes = plt.subplots(2, 2, figsize=(16, 12))\n",
    "\n",
    "# 1. Model Comparison - RMSE\n",
    "ax1 = axes[0, 0]\n",
    "comparison_sorted = comparison_df.sort_values('Val RMSE', ascending=False)\n",
    "bars = ax1.barh(comparison_sorted['Model'], comparison_sorted['Val RMSE'], color='skyblue')\n",
    "ax1.axvline(x=comparison_sorted['Val RMSE'].min(), color='red', linestyle='--', alpha=0.5)\n",
    "ax1.set_xlabel('Validation RMSE', fontsize=12, fontweight='bold')\n",
    "ax1.set_title('Model Comparison - Validation RMSE', fontsize=14, fontweight='bold')\n",
    "ax1.grid(axis='x', alpha=0.3)\n",
    "\n",
    "for bar in bars:\n",
    "    width = bar.get_width()\n",
    "    ax1.text(width, bar.get_y() + bar.get_height()/2, f'{width:.4f}',\n",
    "             ha='left', va='center', fontsize=9, fontweight='bold')\n",
    "\n",
    "# 2. Model Comparison - R²\n",
    "ax2 = axes[0, 1]\n",
    "comparison_sorted_r2 = comparison_df.sort_values('Val R²', ascending=True)\n",
    "bars = ax2.barh(comparison_sorted_r2['Model'], comparison_sorted_r2['Val R²'], color='lightcoral')\n",
    "ax2.set_xlabel('Validation R²', fontsize=12, fontweight='bold')\n",
    "ax2.set_title('Model Comparison - Validation R²', fontsize=14, fontweight='bold')\n",
    "ax2.grid(axis='x', alpha=0.3)\n",
    "\n",
    "for bar in bars:\n",
    "    width = bar.get_width()\n",
    "    ax2.text(width, bar.get_y() + bar.get_height()/2, f'{width:.4f}',\n",
    "             ha='left', va='center', fontsize=9, fontweight='bold')\n",
    "\n",
    "# 3. Actual vs Predicted\n",
    "ax3 = axes[1, 0]\n",
    "y_pred_best = results[best_model_name]['predictions']\n",
    "ax3.scatter(y_val, y_pred_best, alpha=0.5, s=30, edgecolors='black', linewidths=0.5)\n",
    "ax3.plot([y_val.min(), y_val.max()], [y_val.min(), y_val.max()], 'r--', lw=2)\n",
    "ax3.set_xlabel('Actual Values', fontsize=12, fontweight='bold')\n",
    "ax3.set_ylabel('Predicted Values', fontsize=12, fontweight='bold')\n",
    "ax3.set_title(f'Actual vs Predicted - {best_model_name}', fontsize=14, fontweight='bold')\n",
    "ax3.grid(alpha=0.3)\n",
    "\n",
    "r2_text = f'R² = {results[best_model_name][\"val_r2\"]:.4f}'\n",
    "ax3.text(0.05, 0.95, r2_text, transform=ax3.transAxes, \n",
    "         fontsize=12, verticalalignment='top', fontweight='bold',\n",
    "         bbox=dict(boxstyle='round', facecolor='wheat', alpha=0.5))\n",
    "\n",
    "# 4. Feature Importance\n",
    "ax4 = axes[1, 1]\n",
    "if hasattr(best_model, 'feature_importances_'):\n",
    "    top_features = feature_importance.head(10)\n",
    "    bars = ax4.barh(top_features['Feature'], top_features['Importance'], color='lightgreen')\n",
    "    ax4.set_xlabel('Importance', fontsize=12, fontweight='bold')\n",
    "    ax4.set_title(f'Top 10 Features - {best_model_name}', fontsize=14, fontweight='bold')\n",
    "    ax4.grid(axis='x', alpha=0.3)\n",
    "    \n",
    "    for bar in bars:\n",
    "        width = bar.get_width()\n",
    "        ax4.text(width, bar.get_y() + bar.get_height()/2, f'{width:.3f}',\n",
    "                 ha='left', va='center', fontsize=9, fontweight='bold')\n",
    "else:\n",
    "    ax4.text(0.5, 0.5, 'Feature importance\\nnot available', \n",
    "             ha='center', va='center', fontsize=14, fontweight='bold')\n",
    "    ax4.axis('off')\n",
    "\n",
    "plt.tight_layout()\n",
    "plt.savefig('model_evaluation_improved.png', dpi=300, bbox_inches='tight')\n",
    "plt.show()\n",
    "\n",
    "print(\"\\n✓ Visualizations created!\")"
   ]
  },
  {
   "cell_type": "code",
   "execution_count": 36,
   "id": "e15a6af1",
   "metadata": {},
   "outputs": [
    {
     "name": "stdout",
     "output_type": "stream",
     "text": [
      "Predictions: 2523\n",
      "Range: [3.68, 8.98]\n",
      "Mean: 7.28\n",
      "Std: 0.88\n"
     ]
    }
   ],
   "source": [
    "test_predictions = best_model.predict(df_test_processed)\n",
    "\n",
    "print(f\"Predictions: {len(test_predictions)}\")\n",
    "print(f\"Range: [{test_predictions.min():.2f}, {test_predictions.max():.2f}]\")\n",
    "print(f\"Mean: {test_predictions.mean():.2f}\")\n",
    "print(f\"Std: {test_predictions.std():.2f}\")"
   ]
  },
  {
   "cell_type": "code",
   "execution_count": 37,
   "id": "857f8f56",
   "metadata": {},
   "outputs": [
    {
     "name": "stdout",
     "output_type": "stream",
     "text": [
      "✓ Submission saved: submission_improved.csv\n",
      "\n",
      "First 10 predictions:\n"
     ]
    },
    {
     "data": {
      "text/html": [
       "<div>\n",
       "<style scoped>\n",
       "    .dataframe tbody tr th:only-of-type {\n",
       "        vertical-align: middle;\n",
       "    }\n",
       "\n",
       "    .dataframe tbody tr th {\n",
       "        vertical-align: top;\n",
       "    }\n",
       "\n",
       "    .dataframe thead th {\n",
       "        text-align: right;\n",
       "    }\n",
       "</style>\n",
       "<table border=\"1\" class=\"dataframe\">\n",
       "  <thead>\n",
       "    <tr style=\"text-align: right;\">\n",
       "      <th></th>\n",
       "      <th>row_id</th>\n",
       "      <th>Y</th>\n",
       "    </tr>\n",
       "  </thead>\n",
       "  <tbody>\n",
       "    <tr>\n",
       "      <th>0</th>\n",
       "      <td>0</td>\n",
       "      <td>8.614684</td>\n",
       "    </tr>\n",
       "    <tr>\n",
       "      <th>1</th>\n",
       "      <td>1</td>\n",
       "      <td>6.971569</td>\n",
       "    </tr>\n",
       "    <tr>\n",
       "      <th>2</th>\n",
       "      <td>2</td>\n",
       "      <td>6.093181</td>\n",
       "    </tr>\n",
       "    <tr>\n",
       "      <th>3</th>\n",
       "      <td>3</td>\n",
       "      <td>6.854398</td>\n",
       "    </tr>\n",
       "    <tr>\n",
       "      <th>4</th>\n",
       "      <td>4</td>\n",
       "      <td>7.283122</td>\n",
       "    </tr>\n",
       "    <tr>\n",
       "      <th>5</th>\n",
       "      <td>5</td>\n",
       "      <td>7.678621</td>\n",
       "    </tr>\n",
       "    <tr>\n",
       "      <th>6</th>\n",
       "      <td>6</td>\n",
       "      <td>7.570977</td>\n",
       "    </tr>\n",
       "    <tr>\n",
       "      <th>7</th>\n",
       "      <td>7</td>\n",
       "      <td>7.895959</td>\n",
       "    </tr>\n",
       "    <tr>\n",
       "      <th>8</th>\n",
       "      <td>8</td>\n",
       "      <td>5.257888</td>\n",
       "    </tr>\n",
       "    <tr>\n",
       "      <th>9</th>\n",
       "      <td>9</td>\n",
       "      <td>8.050133</td>\n",
       "    </tr>\n",
       "  </tbody>\n",
       "</table>\n",
       "</div>"
      ],
      "text/plain": [
       "   row_id         Y\n",
       "0       0  8.614684\n",
       "1       1  6.971569\n",
       "2       2  6.093181\n",
       "3       3  6.854398\n",
       "4       4  7.283122\n",
       "5       5  7.678621\n",
       "6       6  7.570977\n",
       "7       7  7.895959\n",
       "8       8  5.257888\n",
       "9       9  8.050133"
      ]
     },
     "execution_count": 37,
     "metadata": {},
     "output_type": "execute_result"
    }
   ],
   "source": [
    "sub_example = pd.read_csv(\"sample_submission.csv\")\n",
    "\n",
    "submission = pd.DataFrame({\n",
    "    \"row_id\": sub_example[\"row_id\"],  \n",
    "    \"Y\": test_predictions  \n",
    "})\n",
    "\n",
    "submission.to_csv(\"submission_improved.csv\", index=False)\n",
    "print(\"✓ Submission saved: submission_improved.csv\")\n",
    "\n",
    "print(\"\\nFirst 10 predictions:\")\n",
    "submission.head(10)"
   ]
  },
  {
   "cell_type": "code",
   "execution_count": 38,
   "id": "217f0ae0",
   "metadata": {},
   "outputs": [
    {
     "name": "stdout",
     "output_type": "stream",
     "text": [
      "======================================================================\n",
      "PIPELINE SUMMARY\n",
      "======================================================================\n",
      "✓ Data preprocessed with feature engineering\n",
      "✓ Trained 5 models\n",
      "✓ Best model: Gradient Boosting\n",
      "✓ Validation RMSE: 0.5500\n",
      "✓ Validation R²: 0.7183\n",
      "✓ CV RMSE: 0.5341\n",
      "======================================================================\n",
      "\n",
      "KEY IMPROVEMENTS:\n",
      "  1. Feature engineering (5 new features)\n",
      "  2. Multiple models (5 models)\n",
      "  3. Cross-validation\n",
      "  4. Optimized hyperparameters\n",
      "  5. Comprehensive visualizations\n",
      "  6. Feature importance analysis\n",
      "======================================================================\n"
     ]
    }
   ],
   "source": [
    "print(\"=\"*70)\n",
    "print(\"PIPELINE SUMMARY\")\n",
    "print(\"=\"*70)\n",
    "print(f\"✓ Data preprocessed with feature engineering\")\n",
    "print(f\"✓ Trained {len(models)} models\")\n",
    "print(f\"✓ Best model: {best_model_name}\")\n",
    "print(f\"✓ Validation RMSE: {results[best_model_name]['val_rmse']:.4f}\")\n",
    "print(f\"✓ Validation R²: {results[best_model_name]['val_r2']:.4f}\")\n",
    "print(f\"✓ CV RMSE: {results[best_model_name]['cv_rmse']:.4f}\")\n",
    "print(\"=\"*70)\n",
    "print(\"\\nKEY IMPROVEMENTS:\")\n",
    "print(\"  1. Feature engineering (5 new features)\")\n",
    "print(\"  2. Multiple models (5 models)\")\n",
    "print(\"  3. Cross-validation\")\n",
    "print(\"  4. Optimized hyperparameters\")\n",
    "print(\"  5. Comprehensive visualizations\")\n",
    "print(\"  6. Feature importance analysis\")\n",
    "print(\"=\"*70)"
   ]
  },
  {
   "cell_type": "code",
   "execution_count": 39,
   "id": "687b5431",
   "metadata": {},
   "outputs": [
    {
     "name": "stdout",
     "output_type": "stream",
     "text": [
      "✓ Model comparison saved\n",
      "✓ Feature importance saved\n"
     ]
    }
   ],
   "source": [
    "# Save comparison and feature importance\n",
    "comparison_df.to_csv('model_comparison_improved.csv', index=False)\n",
    "print(\"✓ Model comparison saved\")\n",
    "\n",
    "if hasattr(best_model, 'feature_importances_'):\n",
    "    feature_importance.to_csv('feature_importance_improved.csv', index=False)\n",
    "    print(\"✓ Feature importance saved\")"
   ]
  },
  {
   "cell_type": "code",
   "execution_count": null,
   "id": "2e263518",
   "metadata": {},
   "outputs": [],
   "source": []
  },
  {
   "cell_type": "code",
   "execution_count": null,
   "id": "82e68de0",
   "metadata": {},
   "outputs": [],
   "source": []
  }
 ],
 "metadata": {
  "kernelspec": {
   "display_name": "Py_11",
   "language": "python",
   "name": "python3"
  },
  "language_info": {
   "codemirror_mode": {
    "name": "ipython",
    "version": 3
   },
   "file_extension": ".py",
   "mimetype": "text/x-python",
   "name": "python",
   "nbconvert_exporter": "python",
   "pygments_lexer": "ipython3",
   "version": "3.11.13"
  }
 },
 "nbformat": 4,
 "nbformat_minor": 5
}
